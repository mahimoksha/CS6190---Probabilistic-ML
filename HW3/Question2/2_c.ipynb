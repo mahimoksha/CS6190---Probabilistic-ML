{
  "nbformat": 4,
  "nbformat_minor": 0,
  "metadata": {
    "colab": {
      "provenance": []
    },
    "kernelspec": {
      "name": "python3",
      "display_name": "Python 3"
    },
    "language_info": {
      "name": "python"
    }
  },
  "cells": [
    {
      "cell_type": "code",
      "execution_count": 30,
      "metadata": {
        "id": "6xozu778x_w1"
      },
      "outputs": [],
      "source": [
        "from scipy.stats import norm\n",
        "import pandas as pd\n",
        "import numpy as np\n",
        "import matplotlib.pyplot as plt\n",
        "import numpy as np\n",
        "from scipy.optimize import minimize\n",
        "import math\n",
        "import matplotlib.pyplot as plt\n",
        "from scipy.special import gamma\n",
        "from scipy.stats import norm, t\n",
        "import numpy as np\n",
        "from scipy.stats import norm"
      ]
    },
    {
      "cell_type": "code",
      "source": [
        "data_train = pd.read_csv(\"bank-note/train.csv\", header=None)\n",
        "data_test = pd.read_csv(\"bank-note/test.csv\", header=None)\n",
        "X = data_train.iloc[:,:4]\n",
        "Y = data_train.iloc[:,-1]\n",
        "X_test = data_test.iloc[:,:4]\n",
        "Y_test = data_test.iloc[:,-1]"
      ],
      "metadata": {
        "id": "yRPQpQ_LyBqN"
      },
      "execution_count": 31,
      "outputs": []
    },
    {
      "cell_type": "code",
      "source": [
        "def probit_regression(X, t):\n",
        "    w = np.zeros(X.shape[1])\n",
        "    alpha = 1\n",
        "    max_iter = 100\n",
        "    epsilon = 1e-5\n",
        "    lambd = 1\n",
        "    I = np.identity(X.shape[1])\n",
        "    for i in range(max_iter):\n",
        "        z = np.dot(X, w)\n",
        "        # y= 1.0 / (1.0 + np.exp(-z))\n",
        "        y = norm.cdf(z)\n",
        "        grad = np.dot(X.T, y - t) + w\n",
        "        H = np.dot(X.T * norm.pdf(z), X) + I\n",
        "        w_new = w - alpha * np.dot(np.linalg.inv(H), grad)\n",
        "        if np.linalg.norm(w_new - w) < epsilon:\n",
        "            break\n",
        "        w = w_new\n",
        "    return w\n",
        "def eval(data, labels, weights):\n",
        "    c = 0\n",
        "    for i in range(data.shape[0]):\n",
        "        z = np.dot(np.array(data.iloc[i]), weights)\n",
        "        # y= norm.cdf(z)\n",
        "        y = np.random.normal(z,1)\n",
        "        if y>=0:\n",
        "          if 1 == labels.iloc[i]:\n",
        "              c+=1\n",
        "        else:\n",
        "          if 0 == labels.iloc[i]:\n",
        "              c+=1\n",
        "    return c"
      ],
      "metadata": {
        "id": "oadXX_J-yErh"
      },
      "execution_count": 32,
      "outputs": []
    },
    {
      "cell_type": "code",
      "source": [
        "np.random.seed(2)\n",
        "weights = probit_regression(X,Y)\n",
        "print(\"For Initializing the weights to be zero: \")\n",
        "print(\"The converged weights are : \",weights)\n",
        "print(\"Train Accuracy \",eval(X, Y, weights)/len(Y))\n",
        "print(\"Test Accuracy \",eval(X_test, Y_test, weights)/len(Y_test))\n"
      ],
      "metadata": {
        "colab": {
          "base_uri": "https://localhost:8080/"
        },
        "id": "x9hOAXtxyNtE",
        "outputId": "8beb73a7-993d-460e-e3e9-8c32fc4967ba"
      },
      "execution_count": 42,
      "outputs": [
        {
          "output_type": "stream",
          "name": "stdout",
          "text": [
            "For Intializing the weights to be zero: \n",
            "The converged weights are :  [-1.42969255 -0.84230822 -0.91377941 -0.39592616]\n",
            "Train Accuracy  0.9288990825688074\n",
            "Test Accuracy  0.946\n"
          ]
        }
      ]
    },
    {
      "cell_type": "code",
      "source": [],
      "metadata": {
        "id": "UAyJtanAPkAG"
      },
      "execution_count": null,
      "outputs": []
    }
  ]
}