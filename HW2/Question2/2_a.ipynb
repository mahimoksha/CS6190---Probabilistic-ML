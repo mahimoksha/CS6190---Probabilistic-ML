{
  "nbformat": 4,
  "nbformat_minor": 0,
  "metadata": {
    "colab": {
      "provenance": []
    },
    "kernelspec": {
      "name": "python3",
      "display_name": "Python 3"
    },
    "language_info": {
      "name": "python"
    }
  },
  "cells": [
    {
      "cell_type": "code",
      "execution_count": 45,
      "metadata": {
        "id": "0j9FC43trvvg"
      },
      "outputs": [],
      "source": [
        "import pandas as pd\n",
        "import numpy as np\n",
        "import matplotlib.pyplot as plt\n",
        "import warnings\n",
        "warnings.filterwarnings(\"ignore\")\n",
        "np.random.seed(100)"
      ]
    },
    {
      "cell_type": "code",
      "source": [
        "data_train = pd.read_csv(\"bank-note/train.csv\", header=None)\n",
        "data_test = pd.read_csv(\"bank-note/test.csv\", header=None)\n",
        "X = data_train.iloc[:,:4]\n",
        "Y = data_train.iloc[:,-1]\n",
        "X_test = data_test.iloc[:,:4]\n",
        "Y_test = data_test.iloc[:,-1]"
      ],
      "metadata": {
        "id": "H9LZvFyzrw1b"
      },
      "execution_count": 46,
      "outputs": []
    },
    {
      "cell_type": "code",
      "source": [
        "def logistic_regression_newton_raphson(X, t):\n",
        "    w = np.zeros(X.shape[1])\n",
        "    alpha = 1\n",
        "    max_iter = 100\n",
        "    epsilon = 1e-5\n",
        "    lambd = 1\n",
        "    I = np.identity(X.shape[1])\n",
        "    for i in range(max_iter):\n",
        "        z = np.dot(X, w)\n",
        "        y= 1.0 / (1.0 + np.exp(-z))\n",
        "        grad = np.dot(X.T, y - t) \n",
        "        H = np.dot(X.T * y * (1 - y), X) + I\n",
        "        w_new = w - alpha * np.dot(np.linalg.inv(H), grad)\n",
        "        if np.linalg.norm(w_new - w) < epsilon:\n",
        "            break\n",
        "        w = w_new\n",
        "    return w\n",
        "def eval(data, labels, weights):\n",
        "    c = 0\n",
        "    for i in range(data.shape[0]):\n",
        "        z = np.dot(np.array(data.iloc[i]), weights)\n",
        "        y= 1.0 / (1.0 + np.exp(-z))\n",
        "        if y>=0.5:\n",
        "          if 1 == labels.iloc[i]:\n",
        "              c+=1\n",
        "        else:\n",
        "          if 0 == labels.iloc[i]:\n",
        "              c+=1\n",
        "    return c"
      ],
      "metadata": {
        "id": "LXupRn7Lr_M_"
      },
      "execution_count": 47,
      "outputs": []
    },
    {
      "cell_type": "code",
      "source": [
        "weights = logistic_regression_newton_raphson(X,Y)\n",
        "print(\"For Intializing the weights to be zero: \")\n",
        "print(\"The converged weights are : \",weights)\n",
        "print(\"Train Accuracy \",eval(X, Y, weights)/len(Y))\n",
        "print(\"Test Accuracy \",eval(X_test, Y_test, weights)/len(Y_test))\n"
      ],
      "metadata": {
        "id": "I7TrNPUOsABO",
        "colab": {
          "base_uri": "https://localhost:8080/"
        },
        "outputId": "ff923777-2012-49cf-ec25-e3574ac26d0f"
      },
      "execution_count": 48,
      "outputs": [
        {
          "output_type": "stream",
          "name": "stdout",
          "text": [
            "For Intializing the weights to be zero: \n",
            "The converged weights are :  [-2.81217969 -1.69968856 -1.84479153 -0.81122042]\n",
            "Train Accuracy  0.9598623853211009\n",
            "Test Accuracy  0.954\n"
          ]
        }
      ]
    },
    {
      "cell_type": "code",
      "source": [
        "def logistic_regression_newton_raphson(X, t):\n",
        "    w = np.random.normal(0,1,size=X.shape[1])\n",
        "    alpha = 1\n",
        "    max_iter = 100\n",
        "    epsilon = 1e-5\n",
        "    lambd = 1\n",
        "    I = np.identity(X.shape[1])\n",
        "    for i in range(max_iter):\n",
        "        z = np.dot(X, w)\n",
        "        y= 1.0 / (1.0 + np.exp(-z))\n",
        "        grad = np.dot(X.T, y - t) \n",
        "        H = np.dot(X.T * y * (1 - y), X) +I\n",
        "        # if np.linalg.det(H)!=0:\n",
        "        w_new = w - alpha * np.dot(np.linalg.inv(H), grad)\n",
        "        if np.linalg.norm(w_new - w) < epsilon:\n",
        "            break\n",
        "        w = w_new\n",
        "    return w\n",
        "def eval(data, labels, weights):\n",
        "    c = 0\n",
        "    for i in range(data.shape[0]):\n",
        "        z = np.dot(np.array(data.iloc[i]), weights)\n",
        "        y= 1.0 / (1.0 + np.exp(-z))\n",
        "        if y>=0.5:\n",
        "          if 1 == labels.iloc[i]:\n",
        "              c+=1\n",
        "        else:\n",
        "          if 0 == labels.iloc[i]:\n",
        "              c+=1\n",
        "    return c"
      ],
      "metadata": {
        "id": "jXVRmHbewjx3"
      },
      "execution_count": 49,
      "outputs": []
    },
    {
      "cell_type": "code",
      "source": [
        "weights = logistic_regression_newton_raphson(X,Y)\n",
        "print(\"For Intializing the weights to be random normal: \")\n",
        "print(\"The converged weights are : \",weights)\n",
        "print(\"Train Accuracy \",eval(X, Y, weights)/len(Y))\n",
        "print(\"Test Accuracy \",eval(X_test, Y_test, weights)/len(Y_test))\n"
      ],
      "metadata": {
        "colab": {
          "base_uri": "https://localhost:8080/"
        },
        "id": "dBGq5p4W2nzN",
        "outputId": "bf458ed9-8d89-4b35-e797-d04ae989ac58"
      },
      "execution_count": 50,
      "outputs": [
        {
          "output_type": "stream",
          "name": "stdout",
          "text": [
            "For Intializing the weights to be random normal: \n",
            "The converged weights are :  [-508.78110788 -400.22146415 -409.08838334 -210.55193938]\n",
            "Train Accuracy  0.9518348623853211\n",
            "Test Accuracy  0.946\n"
          ]
        }
      ]
    },
    {
      "cell_type": "code",
      "source": [],
      "metadata": {
        "id": "GTLcHycp2iQJ"
      },
      "execution_count": 50,
      "outputs": []
    }
  ]
}